{
 "cells": [
  {
   "cell_type": "markdown",
   "id": "6baeb274-c39e-4bbc-a121-2d94bc684cb5",
   "metadata": {},
   "source": [
    "Q1. What is Statistics?"
   ]
  },
  {
   "cell_type": "markdown",
   "id": "4d8f3b70-e99c-4f9a-acf0-d8a4203c932a",
   "metadata": {},
   "source": [
    "Ans) It is the science of collecting, organising and analyzing data."
   ]
  },
  {
   "cell_type": "markdown",
   "id": "d2f2fd5a-3ec8-4058-9976-84554ca436c6",
   "metadata": {},
   "source": [
    "Q2. Define the different types of statistics and give an example of when each type might be used."
   ]
  },
  {
   "cell_type": "markdown",
   "id": "27dc0035-ba2e-47e8-b8b9-869dd940fb6f",
   "metadata": {},
   "source": [
    "Ans) Statistics have majorly categorised into two types:\n",
    "\n",
    "a)Descriptive statistics\n",
    "b)Inferential statistics\n",
    "\n",
    "a) Descriptive Statistics\n",
    "\n",
    "In this type of statistics, the data is summarised through the given observations. The summarisation is one from a sample of population using parameters such as the mean or standard deviation.\n",
    "\n",
    "Descriptive statistics is a way to organise, represent and describe a collection of data using tables, graphs, and summary measures. For example, the collection of people in a city using the internet or using Television.\n",
    "\n",
    "Descriptive statistics are also categorised into four different categories:\n",
    "\n",
    "Measure of frequency\n",
    "Measure of dispersion\n",
    "Measure of central tendency\n",
    "Measure of position\n",
    "The frequency measurement displays the number of times a particular data occurs. Range, Variance, Standard Deviation are measures of dispersion. It identifies the spread of data. Central tendencies are the mean, median and mode of the data. And the measure of position describes the percentile and quartile ranks.\n",
    "\n",
    "b) Inferential Statistics\n",
    "\n",
    "Inferential Statistics makes inference and prediction about population based on a sample of data taken from population. It generalizes a large dataset and applies probabilities to draw a conclusion. It is simply used for explaining meaning of descriptive stats. It is simply used to analyze, interpret result, and draw conclusion."
   ]
  },
  {
   "cell_type": "markdown",
   "id": "b3a2296f-ca8b-4ad4-a14f-eddf074f1ce9",
   "metadata": {},
   "source": [
    "Q3. What are the different types of data and how do they differ from each other? Provide an example of\n",
    "each type of data."
   ]
  },
  {
   "cell_type": "markdown",
   "id": "fa8b748a-089b-4a92-b37c-33d605fc50cb",
   "metadata": {},
   "source": [
    "a) Quantitative data\n",
    "\n",
    "Data is depicted in numerical terms. \t\n",
    "Can be shown in numbers and variables like ratio, percentage, and more.\n",
    "Example: 100%, 1:3, 123\t\n",
    "\n",
    "b) Qualitative Data\n",
    "\n",
    "Data is not depicted in numerical terms. \n",
    "Could be about the behavioral attributes of a person, or thing. \n",
    "Example: loud behavior, fair skin, soft quality, and more.\n"
   ]
  },
  {
   "cell_type": "markdown",
   "id": "2b8786ab-04d1-4fd3-a69e-9158ea823e7c",
   "metadata": {},
   "source": [
    "Q4. Categorise the following datasets with respect to quantitative and qualitative data types:\n",
    "    \n",
    "(i) Grading in exam: A+, A, B+, B, C+, C, D, E\n",
    "\n",
    "(ii) Colour of mangoes: yellow, green, orange, red.\n",
    "\n",
    "(iii) Height data of a class: [178.9, 179, 179.5, 176, 177.2, 178.3, 175.8,...]\n",
    "\n",
    "(iv) Number of mangoes exported by a farm: [500, 600, 478, 672, ...]"
   ]
  },
  {
   "cell_type": "markdown",
   "id": "59172de8-8331-4859-a660-ad819becab1f",
   "metadata": {},
   "source": [
    "Ans) Quantitative Data are:\n",
    "\n",
    "Height data of a class: [178.9, 179, 179.5, 176, 177.2, 178.3, 175.8,...]\n",
    "\n",
    "Number of mangoes exported by a farm: [500, 600, 478, 672, ...]\n",
    "\n",
    "Qualitative Data are:\n",
    "\n",
    "Grading in exam: A+, A, B+, B, C+, C, D, E\n",
    "\n",
    "Colour of mangoes: yellow, green, orange, red.\n",
    "\n",
    "\n"
   ]
  },
  {
   "cell_type": "markdown",
   "id": "75be3604-180b-49e4-b032-896f3e08c6e3",
   "metadata": {},
   "source": [
    "Q5. Explain the concept of levels of measurement and give an example of a variable for each level."
   ]
  },
  {
   "cell_type": "markdown",
   "id": "5028e7ed-9984-49fd-869d-b032d37d8154",
   "metadata": {},
   "source": [
    "Ans) There are 4 levels of measurement:\n",
    "\n",
    "Nominal: the data can only be categorized\n",
    "Ordinal: the data can be categorized and ranked\n",
    "Interval: the data can be categorized, ranked, and evenly spaced\n",
    "Ratio: the data can be categorized, ranked, evenly spaced, and has a natural zero.\n",
    "\n",
    "\n",
    "a) Nominal Data:\n",
    "\n",
    "Nominal data is a type of data that consists of categories or names that cannot be ordered or ranked. Nominal data is often used to categorize observations into groups, and the groups are not comparable. In other words, nominal data has no inherent order or ranking. Examples of nominal data include gender (male/female), race (White/Black/Asian), religion (Christianity/Islam/Judaism), and blood type (A/B/AB/O).\n",
    "\n",
    "b) Ordinal Data:\n",
    "\n",
    "Ordinal data is a type of data that consists of categories that can be ordered or ranked. However, the distance between categories is not necessarily equal. Ordinal data is often used to measure subjective attributes or opinions, where there is a natural order to the responses. Examples of ordinal data include education level (elementary/middle/high school/college), job position (manager/supervisor/employee), and Likert scales (strongly agree/agree/disagree/strongly disagree).\n",
    "\n",
    "c) Interval Data:\n",
    "\n",
    "Interval data is a type of data that consists of numerical values where the distance between each value is equal. However, there is no true zero point. Interval data is often used to measure attributes such as temperature, dates, and time. Examples of interval data include temperature (Celsius/Fahrenheit), dates (days/months/years), and time (hours/minutes/seconds).\n",
    "\n",
    "d) Ratio Data:\n",
    "\n",
    "Ratio data is a type of data that has a true zero point and an equal distance between each value. Ratio data is considered the most informative type of data because it can be used to make meaningful comparisons and calculations. In addition, ratio data can be used to perform all types of statistical analyses.\n",
    "Examples of ratio data include height (inches/centimeters), weight (pounds/kilograms), income (dollars), and distance (miles/kilometers)."
   ]
  },
  {
   "cell_type": "markdown",
   "id": "e0283764-b374-4471-bf91-f3c7ec9bd4b2",
   "metadata": {},
   "source": [
    "Q6. Why is it important to understand the level of measurement when analyzing data? Provide an\n",
    "example to illustrate your answer."
   ]
  },
  {
   "cell_type": "markdown",
   "id": "ea0d2a13-beaa-4fdf-a0b4-d1d72299a120",
   "metadata": {},
   "source": [
    "Ans) It is important to understand the level of measurement of variables in research, because the level of measurement determines the type of statistical analysis that can be conducted, and, therefore, the type of conclusions that can be drawn from the research.\n",
    "\n",
    "Example:  \n",
    "\n",
    "That variable has a number of attributes. Let’s assume that in this particular election context the only relevant attributes are “ 1. Republican”, “ 2. Democrat”, and “ 3. Independent”. For purposes of analyzing the results of this variable, we arbitrarily assign the values 1, 2 and 3 to the three attributes. The level of measurement describes the relationship among these three values. In this case, we simply are using the numbers as shorter placeholders for the lengthier text terms. We don’t assume that higher values mean “more” of something and lower numbers signify “less”. We don’t assume the value of 2 means that democrats are twice something that republicans are. We don’t assume that republicans are in first place or have the highest priority just because they have the value of 1. In this case, we only use the values as a shorter name for the attribute.Here, we would describe the level of measurement as “nominal”.\n",
    "\n",
    "\n"
   ]
  },
  {
   "cell_type": "markdown",
   "id": "c71bcd1a-2ae3-42cd-9447-cbb5576c439b",
   "metadata": {},
   "source": [
    "Q7. How nominal data type is different from ordinal data type."
   ]
  },
  {
   "cell_type": "markdown",
   "id": "6345893f-9e4f-44dd-ad17-d95f65802003",
   "metadata": {},
   "source": [
    "Ans) Ordinal data is analyzed by mode, median, quartiles, and percentile, whereas nominal data is analyzed by grouping variables into categories and calculating the distribution mode. Nominal data are categorical, whereas Ordinal data are both categorical and quantitative."
   ]
  },
  {
   "cell_type": "markdown",
   "id": "9889b7af-ef56-4806-8c11-ab07d1e3544e",
   "metadata": {},
   "source": [
    "Q8. Which type of plot can be used to display data in terms of range?"
   ]
  },
  {
   "cell_type": "markdown",
   "id": "f61f3bcf-c102-44e2-b9d0-790422b05710",
   "metadata": {},
   "source": [
    "Ans) Histogram"
   ]
  },
  {
   "cell_type": "markdown",
   "id": "e2cf9e85-ba2a-41a5-91a3-1dc953bb7273",
   "metadata": {},
   "source": [
    "Q9. Describe the difference between descriptive and inferential statistics. Give an example of each\n",
    "type of statistics and explain how they are used."
   ]
  },
  {
   "cell_type": "markdown",
   "id": "dabc56e1-28f7-4d7f-b28d-c55b163f8cce",
   "metadata": {},
   "source": [
    "Ans) Descriptive Statistics describes the characteristics of a data set. It is a simple technique to describe, show and summarize data in a meaningful way. You simply choose a group you’re interested in, record data about the group, and then use summary statistics and graphs to describe the group properties. There is no uncertainty involved because you’re just describing the people or items that you actually measure. You’re not aiming to infer properties about a large data set. \n",
    "\n",
    "Descriptive statistics involves taking a potentially sizeable number of data points in the sample data and reducing them to certain meaningful summary values and graphs. The process allows you to obtain insights and visualize the data rather than simply pouring through sets of raw numbers. With descriptive statistics, you can describe both an entire population and an individual sample. \n",
    "\n",
    "\n",
    "Examples of descriptive statistics:\n",
    "\n",
    "It is used to enumerate and explain a dataset's key characteristics. Measures like mean, median, mode, range, variance, and standard deviation are some examples. For instance, you could use descriptive statistics to determine the average age, the age distribution, and the age standard deviation of a group of individuals if you wanted to summarize their ages.\n",
    "\n",
    "In Inferential Statistics, the focus is on making predictions about a large group of data based on a representative sample of the population. A random sample of data is considered from a population to describe and make inferences about the population. This technique allows you to work with a small sample rather than the whole population. Since inferential statistics make predictions rather than stating facts, the results are often in the form of probability. \n",
    "\n",
    "The accuracy of inferential statistics depends largely on the accuracy of sample data and how it represents the larger population. This can be effectively done by obtaining a random sample. Results that are based on non-random samples are usually discarded. Random sampling - though not very straightforward always – is extremely important for carrying out inferential techniques. \n",
    "\n",
    "Examples of inferential statistics:\n",
    "\n",
    "Using a sample of data, inferential statistics is used to draw conclusions or generalizations about a broader population. Examples include regression analysis, confidence ranges, and hypothesis testing. For instance, you could use inferential statistics to assess whether there is a significant difference in the outcomes of patients who receive the drug compared to those who receive a placebo if you want to know if a new drug is effective.\n",
    "\n",
    "\n",
    "\n"
   ]
  },
  {
   "cell_type": "markdown",
   "id": "b33c0649-04e5-477b-8c67-de68398ed67c",
   "metadata": {},
   "source": [
    "Q10. What are some common measures of central tendency and variability used in statistics? Explain\n",
    "how each measure can be used to describe a dataset."
   ]
  },
  {
   "cell_type": "markdown",
   "id": "a392a1f0-4e89-4a0f-9c33-0f652d60abc7",
   "metadata": {},
   "source": [
    "Ans) Central tendency and variation are two measures used in statistics to summarize data. Measure of central tendency shows where the center or middle of the data set is located, whereas measure of variation shows the dispersion among data values.\n",
    "\n",
    "Data sets can have the same central tendency but different levels of variability or vice versa. Together, they give you a complete picture of your data.\n",
    "\n"
   ]
  },
  {
   "cell_type": "code",
   "execution_count": null,
   "id": "96a1be2e-f276-4d31-a697-6fa0bd1adaac",
   "metadata": {},
   "outputs": [],
   "source": []
  }
 ],
 "metadata": {
  "kernelspec": {
   "display_name": "Python 3 (ipykernel)",
   "language": "python",
   "name": "python3"
  },
  "language_info": {
   "codemirror_mode": {
    "name": "ipython",
    "version": 3
   },
   "file_extension": ".py",
   "mimetype": "text/x-python",
   "name": "python",
   "nbconvert_exporter": "python",
   "pygments_lexer": "ipython3",
   "version": "3.10.8"
  }
 },
 "nbformat": 4,
 "nbformat_minor": 5
}
